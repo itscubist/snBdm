{
 "cells": [
  {
   "cell_type": "markdown",
   "metadata": {},
   "source": [
    "# SN Explosion Boosted Dark Matter Preliminary Studies\n",
    "Based on [arXiv:2206.06864](https://arxiv.org/abs/2206.06864)"
   ]
  },
  {
   "cell_type": "code",
   "execution_count": 78,
   "metadata": {
    "collapsed": true
   },
   "outputs": [],
   "source": [
    "import math\n",
    "import numpy as np\n",
    "import mpmath\n",
    "import matplotlib.pyplot as mplot"
   ]
  },
  {
   "cell_type": "code",
   "execution_count": 96,
   "metadata": {},
   "outputs": [],
   "source": [
    "# Global parameters\n",
    "snLuminosity = 1.87E58 # in MeV/s\n",
    "nuFlavorId = [12,-12,14,-14,16,-16] #PDG ID\n",
    "nuFluxAveEnergy = [11,16,25,25,25,25] # average energy for nu flux\n",
    "nuFluxEta = [3,3,3,3,3,3] # pinching\n",
    "dmNumberDensityPars_LMC = [3, 68, 31.9] # n, rho_s MeV/cm3, r_s kpc"
   ]
  },
  {
   "cell_type": "code",
   "execution_count": 90,
   "metadata": {},
   "outputs": [],
   "source": [
    "# Number density/Flux Functions \n",
    "\n",
    "#Supernova Neutrino Energy Distribution\n",
    "# Fermi-Dirac with pinching\n",
    "# Flavor in PDG ID, energy in MeV\n",
    "def normSnFlux(flavor, energy):\n",
    "    index = nuFlavorId.index(flavor)\n",
    "    aveEnergy = nuFluxAveEnergy[index]\n",
    "    eta = nuFluxEta[index]\n",
    "    \n",
    "    temperature = aveEnergy/3.99\n",
    "    normFactor = -2. * mpmath.polylog(3,-math.exp(eta)) # Integral done by wolfram alpha -2*Li_3(-e^eta)\n",
    "    normFlux = 1./(normFactor *  pow(temperature,3) ) * pow(energy,2)/(math.exp( energy/temperature - eta) + 1)\n",
    "    return normFlux\n",
    "\n",
    "# Supernova Neutrino Number Density\n",
    "# Energy in MeV, distance in kpc\n",
    "def snTotalNuDensity(energy, distance):\n",
    "    totalNuDensity = 0\n",
    "    distance = distance * 3.086E19 # now in meters\n",
    "    for flavor in nuFlavorId:\n",
    "        totalNuDensity = totalNuDensity + normSnFlux(flavor, energy) / nuFluxAveEnergy[nuFlavorId.index(flavor)]\n",
    "    # Square energy term is already implemented in the flux,\n",
    "    #totalNuDensity = totalNuDensity * (snLuminosity/6.) / ( 4 * math.pi * pow(distance,2) ) * pow(energy,2)\n",
    "    totalNuDensity = totalNuDensity * (snLuminosity/6.) / ( 4 * math.pi * pow(distance,2) )\n",
    "    return totalNuDensity\n",
    "\n",
    "\n",
    "# Dark matter density\n",
    "# distance in kpc and mDark in MeV\n",
    "def dmNumberDensity(distance, mDark):\n",
    "    distanceRatio = distance/dmNumberDensityPars_LMC[2]\n",
    "    numberDensity = (dmNumberDensityPars_LMC[1] / mDark)\n",
    "    numberDensity = numberDensity / ( distanceRatio * pow( (1+distanceRatio), dmNumberDensityPars_LMC[0]) )\n",
    "    return numberDensity"
   ]
  },
  {
   "cell_type": "code",
   "execution_count": 106,
   "metadata": {},
   "outputs": [],
   "source": []
  },
  {
   "cell_type": "code",
   "execution_count": 110,
   "metadata": {
    "collapsed": true
   },
   "outputs": [],
   "source": [
    "# Kinematic Functions\n",
    "\n",
    "# Theta (CM angle) in terms of alpha (lab angle)\n",
    "# nuEnergy and mDark in MeV\n",
    "def cmTheta(nuEnergy, mDark, alpha):\n",
    "    gamma = (nuEnergy + mDark) / sqrt( mDark * (2*nuEnergy + mDark) )\n",
    "    theta = 2*atan( gamma * tan(alpha) )\n",
    "    return theta\n",
    "\n",
    "# Angular Distribution\n",
    "def fAngular(nuEnergy, mDark, alpha):\n",
    "    gamma = (nuEnergy + mDark) / sqrt( mDark * (2*nuEnergy + mDark) )\n",
    "    angular = pow(gamma,3) / ( math.pi * pow(cos,alpha)^3 * pow( 1+pow(gamma*tan(alpha), 2), 2) )\n",
    "    \n",
    "# DM Kinetic Energy\n",
    "def dmKinetic(nuEnergy, mDark, alpha):\n",
    "    theta = cmTheta(nuEnergy, mDark, alpha)\n",
    "    kineticEnergy = pow(nuEnergy,2)/( nuEnergy + mDark/2. ) * (1 + cos(theta)) / 2.\n",
    "    return kineticEnergy\n",
    "\n",
    "#Tomorrow\n",
    "#def nuEnergyPerFixed"
   ]
  },
  {
   "cell_type": "code",
   "execution_count": 91,
   "metadata": {},
   "outputs": [
    {
     "data": {
      "image/png": "[encoded data removed]",
      "text/plain": [
       "<matplotlib.figure.Figure at 0x7f945424ec90>"
      ]
     },
     "metadata": {},
     "output_type": "display_data"
    }
   ],
   "source": [
    "nuEnergy = np.arange(0,100,0.1)\n",
    "nueFlux = [ snTotalNuDensity(e,50.0) for e in nuEnergy ]\n",
    "mplot.plot(nuEnergy, nueFlux)\n",
    "mplot.show()"
   ]
  },
  {
   "cell_type": "code",
   "execution_count": 108,
   "metadata": {},
   "outputs": [
    {
     "data": {
      "image/png": "[encoded data removed]",
      "text/plain": [
       "<matplotlib.figure.Figure at 0x7f945479f890>"
      ]
     },
     "metadata": {},
     "output_type": "display_data"
    }
   ],
   "source": [
    "dmDistance = np.arange(1,30,1)\n",
    "mDark = 1 #MeV\n",
    "dmDensity = [ dmNumberDensity(d,mDark) for d in dmDistance ]\n",
    "mplot.plot(dmDistance, dmDensity)\n",
    "mplot.show()"
   ]
  },
  {
   "cell_type": "code",
   "execution_count": null,
   "metadata": {
    "collapsed": true
   },
   "outputs": [],
   "source": [
    "alphaRange = np.arange(0,0.5,0.01)\n",
    "mDark = 10\n"
   ]
  },
  {
   "cell_type": "markdown",
   "metadata": {},
   "source": [
    "### TEST CELLS BELOW"
   ]
  },
  {
   "cell_type": "code",
   "execution_count": 51,
   "metadata": {},
   "outputs": [
    {
     "name": "stdout",
     "output_type": "stream",
     "text": [
      "4.04098315229647e-5\n"
     ]
    }
   ],
   "source": [
    "a = [1,2,3]\n",
    "for x \n"
   ]
  },
  {
   "cell_type": "code",
   "execution_count": 40,
   "metadata": {},
   "outputs": [
    {
     "name": "stdout",
     "output_type": "stream",
     "text": [
      "7\n"
     ]
    }
   ],
   "source": [
    "eta = 3.\n",
    "a = -2. * mpmath.polylog(3,-math.exp(eta))\n",
    "print 3^4"
   ]
  },
  {
   "cell_type": "code",
   "execution_count": null,
   "metadata": {
    "collapsed": true
   },
   "outputs": [],
   "source": []
  }
 ],
 "metadata": {
  "kernelspec": {
   "display_name": "Python 3 (ipykernel)",
   "language": "python",
   "name": "python3"
  },
  "language_info": {
   "codemirror_mode": {
    "name": "ipython",
    "version": 2
   },
   "file_extension": ".py",
   "mimetype": "text/x-python",
   "name": "python",
   "nbconvert_exporter": "python",
   "pygments_lexer": "ipython2",
   "version": "2.7.14"
  }
 },
 "nbformat": 4,
 "nbformat_minor": 2
}
